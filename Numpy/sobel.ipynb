{
 "cells": [
  {
   "cell_type": "markdown",
   "metadata": {},
   "source": [
    "1. Carregar i Redimensionar la Imatge\n",
    "\n",
    "Tasca: Carrega una imatge en escala de grisos i guarda-la en una matriu numpy. Redimensiona la imatge abans de carregar-la si és massa gran, per facilitar els càlculs. Pseudocodi:"
   ]
  },
  {
   "cell_type": "code",
   "execution_count": 15,
   "metadata": {},
   "outputs": [
    {
     "name": "stdout",
     "output_type": "stream",
     "text": [
      "La matriu numpy generada:\n",
      "[[254 255 255 ... 254 254 254]\n",
      " [254 255 255 ... 253 253 253]\n",
      " [254 255 255 ... 253 253 253]\n",
      " ...\n",
      " [254 253 253 ... 255 255 255]\n",
      " [254 254 253 ... 255 255 255]\n",
      " [254 254 253 ... 255 255 255]]\n"
     ]
    }
   ],
   "source": [
    "from PIL import Image\n",
    "import numpy as np\n",
    "import os\n",
    "import matplotlib.pyplot as plt\n",
    "# 1. Carregar la imatge utilitzant Pillow\n",
    "ruta_actual=os.getcwd()\n",
    "imatge_path = input(\"Introdueix el nom de la imatge amb la seua extensió ('.jpg', '.png'): \")\n",
    "imatge = Image.open(imatge_path)\n",
    "\n",
    "# 2. Converteix la imatge a escala de grisos (opcional)\n",
    "imatge_grisos = imatge.convert(\"L\")\n",
    "\n",
    "# 3. Converteix la imatge a una matriu numpy\n",
    "img_array = np.array(imatge_grisos)\n",
    "\n",
    "# 4. Guarda la matriu com 'img_array'\n",
    "print(\"La matriu numpy generada:\")\n",
    "print(img_array)"
   ]
  },
  {
   "cell_type": "markdown",
   "metadata": {},
   "source": [
    " 2. Definir els Nuclis del Filtre Sobel\n",
    "Objectiu:\n",
    "\n",
    "Els nuclis Sobel Gx i Gy s'utilitzen per detectar canvis en la intensitat de la imatge en les direccions horitzontal i vertical."
   ]
  },
  {
   "cell_type": "code",
   "execution_count": 10,
   "metadata": {},
   "outputs": [],
   "source": [
    "#Defineix els nuclis Sobel de 3x3:\n",
    "Gx = [[-1, 0, 1], [-2, 0, 2], [-1, 0, 1]]\n",
    "Gy = [[-1, -2, -1], [0, 0, 0], [1, 2, 1]]"
   ]
  },
  {
   "cell_type": "code",
   "execution_count": null,
   "metadata": {},
   "outputs": [
    {
     "name": "stdout",
     "output_type": "stream",
     "text": [
      "Resultat de la detecció de vores:\n",
      "[[0 0 0 ... 0 0 0]\n",
      " [0 1 0 ... 1 1 0]\n",
      " [0 1 0 ... 0 0 0]\n",
      " ...\n",
      " [0 1 0 ... 1 0 0]\n",
      " [0 1 1 ... 0 0 0]\n",
      " [0 0 0 ... 0 0 0]]\n"
     ]
    }
   ],
   "source": [
    "# 5. Crear una matriu 'edges' buida amb la mateixa mida que 'img_array'\n",
    "edges = np.zeros_like(img_array, dtype=np.int32)\n",
    "\n",
    "# 6. Aplicar el filtre Sobel\n",
    "for i in range(1, img_array.shape[0] - 1):\n",
    "    for j in range(1, img_array.shape[1] - 1):\n",
    "        # Extreu un bloc de 3x3 al voltant del píxel (i, j)\n",
    "        bloc = img_array[i-1:i+2, j-1:j+2]\n",
    "\n",
    "        # Calcula Ix i Iy\n",
    "        Ix = np.sum(bloc * Gx)\n",
    "        Iy = np.sum(bloc * Gy)\n",
    "\n",
    "        # Calcula la magnitud del gradient\n",
    "        edges[i, j] = np.sqrt(Ix**2 + Iy**2)\n",
    "\n",
    "# 7. Normalitza 'edges' per ajustar els valors entre 0 i 255\n",
    "edges = (edges / np.max(edges)) * 255\n",
    "edges = edges.astype(np.uint8)\n",
    "\n",
    "# 8. Mostra el resultat\n",
    "print(\"Resultat de la matriu de detecció de vores:\")\n",
    "print(edges)\n"
   ]
  },
  {
   "cell_type": "code",
   "execution_count": 16,
   "metadata": {},
   "outputs": [
    {
     "data": {
      "image/png": "[encoded data removed]",
      "text/plain": [
       "<Figure size 640x480 with 1 Axes>"
      ]
     },
     "metadata": {},
     "output_type": "display_data"
    }
   ],
   "source": [
    "# 8. Mostra el resultat\n",
    "plt.imshow(edges, cmap=\"gray\")\n",
    "plt.axis(\"off\")  # Amaga els eixos\n",
    "plt.title(\"Detecció de vores amb el filtre Sobel\")\n",
    "plt.show()"
   ]
  },
  {
   "cell_type": "code",
   "execution_count": 17,
   "metadata": {},
   "outputs": [],
   "source": [
    "# 9. Crea una imatge amb Pillow utilitzant 'edges'\n",
    "imatge_resultat = Image.fromarray(edges)\n",
    "\n",
    "# 10. Guarda la imatge resultant\n",
    "imatge_resultat.save(\"vores_detectades.png\")"
   ]
  }
 ],
 "metadata": {
  "kernelspec": {
   "display_name": "joanGerardEntorn",
   "language": "python",
   "name": "python3"
  },
  "language_info": {
   "codemirror_mode": {
    "name": "ipython",
    "version": 3
   },
   "file_extension": ".py",
   "mimetype": "text/x-python",
   "name": "python",
   "nbconvert_exporter": "python",
   "pygments_lexer": "ipython3",
   "version": "3.10.11"
  }
 },
 "nbformat": 4,
 "nbformat_minor": 2
}
